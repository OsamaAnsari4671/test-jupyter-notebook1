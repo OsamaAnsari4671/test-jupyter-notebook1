{
 "cells": [
  {
   "cell_type": "markdown",
   "id": "540fe4d5-a40b-49f3-b227-53e0000aed93",
   "metadata": {},
   "source": [
    "# Text Analysis "
   ]
  },
  {
   "cell_type": "code",
   "execution_count": 42,
   "id": "65334064-faba-4a18-8833-5419deff4931",
   "metadata": {
    "tags": []
   },
   "outputs": [],
   "source": [
    "# given string to count the reptition of words.\n",
    "string = \"Lorem ipsum dolor! diam amet, consetetur Lorem magna. sed diam nonumy eirmod tempor. diam et labore? et diam magna. et diam amet.\""
   ]
  },
  {
   "cell_type": "code",
   "execution_count": 57,
   "id": "bd109a15-ff2c-4cb2-a6ca-7ed3e7fdaece",
   "metadata": {
    "tags": []
   },
   "outputs": [],
   "source": [
    "# Lets create a class to analyze the text.\n",
    "\n",
    "class text_analyzer(object):\n",
    "    \n",
    "    def __init__(self, text):\n",
    "    # before assigning attribute, we need to format the text and remove all special char.\n",
    "        special_char = '!@#$%^&*<>:\"_.,?-{}'\n",
    "        formatted_text = ''.join([char for char in string if char not in special_char])\n",
    "\n",
    "        #now we will convert text into lower cases\n",
    "        formatted_text = formatted_text.lower()\n",
    "\n",
    "        self.fmttext = formatted_text\n",
    "    \n",
    "    #now lets create a mathod to count frquencies\n",
    "\n",
    "    def freq(self):\n",
    "        #split text into list of words separated by space\n",
    "        word_list = self.fmttext.split(' ')\n",
    "        \n",
    "        #provide a blank dict to store the counts\n",
    "        freqDict = {}\n",
    "        \n",
    "        for word in word_list:\n",
    "            freqDict[word] = word_list.count(word)\n",
    "        return freqDict\n",
    "    \n",
    "    #creating a method to count the occurances of specific words  \n",
    "    \n",
    "    def freqOf(self, word):\n",
    "        # get freqdict here\n",
    "        words = self.freq()\n",
    "        \n",
    "        if word in words:\n",
    "            return words[word]\n",
    "        else:\n",
    "            return 0\n",
    "    "
   ]
  },
  {
   "cell_type": "code",
   "execution_count": 64,
   "id": "0d6e3c94-35f0-4a37-aa14-1a04cc216bb8",
   "metadata": {
    "tags": []
   },
   "outputs": [
    {
     "name": "stdout",
     "output_type": "stream",
     "text": [
      "The frequency of each word in the string:  {'lorem': 2, 'ipsum': 1, 'dolor': 1, 'diam': 5, 'amet': 2, 'consetetur': 1, 'magna': 2, 'sed': 1, 'nonumy': 1, 'eirmod': 1, 'tempor': 1, 'et': 3, 'labore': 1}\n",
      "The frequency of specific word in the string:  2\n"
     ]
    }
   ],
   "source": [
    "#lets test the methods\n",
    "print('The frequency of each word in the string: ',text_analyzer(string).freq())\n",
    "print('The frequency of specific word in the string: ',text_analyzer(string).freqOf('magna'))"
   ]
  },
  {
   "cell_type": "code",
   "execution_count": null,
   "id": "e28d0b13-577b-4aa4-8ccf-ea923a32bc23",
   "metadata": {},
   "outputs": [],
   "source": []
  }
 ],
 "metadata": {
  "kernelspec": {
   "display_name": "Python 3 (ipykernel)",
   "language": "python",
   "name": "python3"
  },
  "language_info": {
   "codemirror_mode": {
    "name": "ipython",
    "version": 3
   },
   "file_extension": ".py",
   "mimetype": "text/x-python",
   "name": "python",
   "nbconvert_exporter": "python",
   "pygments_lexer": "ipython3",
   "version": "3.11.3"
  }
 },
 "nbformat": 4,
 "nbformat_minor": 5
}
